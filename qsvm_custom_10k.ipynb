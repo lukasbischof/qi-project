{
 "cells": [
  {
   "cell_type": "markdown",
   "source": [
    "# QSVM for AdHoc Dataset\n",
    "## Prepare data"
   ],
   "metadata": {
    "collapsed": false
   }
  },
  {
   "cell_type": "code",
   "execution_count": 10,
   "metadata": {
    "collapsed": true
   },
   "outputs": [],
   "source": [
    "import matplotlib.pyplot as plt\n",
    "import numpy as np\n",
    "import pandas as pd\n",
    "from qiskit import Aer\n",
    "from qiskit.algorithms.state_fidelities import ComputeUncompute\n",
    "from qiskit.primitives import Sampler\n",
    "from qiskit.providers.ibmq import least_busy\n",
    "from qiskit.utils import algorithm_globals, QuantumInstance\n",
    "from qiskit.circuit.library import ZZFeatureMap, PauliFeatureMap\n",
    "from qiskit_machine_learning.kernels import QuantumKernel, FidelityQuantumKernel\n",
    "from sklearn.model_selection import RandomizedSearchCV, cross_validate\n",
    "from sklearn.svm import SVC"
   ]
  },
  {
   "cell_type": "code",
   "execution_count": 11,
   "outputs": [
    {
     "data": {
      "text/plain": "      feature_1  feature_2  label\n0      2.506470   3.493530    0.0\n1      3.082342   2.917658    0.0\n2      3.194333   3.194333    0.0\n3      3.373906   2.626094    0.0\n4      3.192912   2.807088    0.0\n...         ...        ...    ...\n9995   2.975090   3.497816    1.0\n9996   3.289345   2.748755    1.0\n9997   2.875294   2.724441    1.0\n9998   2.735773   3.370653    1.0\n9999   2.865188   3.330879    1.0\n\n[10000 rows x 3 columns]",
      "text/html": "<div>\n<style scoped>\n    .dataframe tbody tr th:only-of-type {\n        vertical-align: middle;\n    }\n\n    .dataframe tbody tr th {\n        vertical-align: top;\n    }\n\n    .dataframe thead th {\n        text-align: right;\n    }\n</style>\n<table border=\"1\" class=\"dataframe\">\n  <thead>\n    <tr style=\"text-align: right;\">\n      <th></th>\n      <th>feature_1</th>\n      <th>feature_2</th>\n      <th>label</th>\n    </tr>\n  </thead>\n  <tbody>\n    <tr>\n      <th>0</th>\n      <td>2.506470</td>\n      <td>3.493530</td>\n      <td>0.0</td>\n    </tr>\n    <tr>\n      <th>1</th>\n      <td>3.082342</td>\n      <td>2.917658</td>\n      <td>0.0</td>\n    </tr>\n    <tr>\n      <th>2</th>\n      <td>3.194333</td>\n      <td>3.194333</td>\n      <td>0.0</td>\n    </tr>\n    <tr>\n      <th>3</th>\n      <td>3.373906</td>\n      <td>2.626094</td>\n      <td>0.0</td>\n    </tr>\n    <tr>\n      <th>4</th>\n      <td>3.192912</td>\n      <td>2.807088</td>\n      <td>0.0</td>\n    </tr>\n    <tr>\n      <th>...</th>\n      <td>...</td>\n      <td>...</td>\n      <td>...</td>\n    </tr>\n    <tr>\n      <th>9995</th>\n      <td>2.975090</td>\n      <td>3.497816</td>\n      <td>1.0</td>\n    </tr>\n    <tr>\n      <th>9996</th>\n      <td>3.289345</td>\n      <td>2.748755</td>\n      <td>1.0</td>\n    </tr>\n    <tr>\n      <th>9997</th>\n      <td>2.875294</td>\n      <td>2.724441</td>\n      <td>1.0</td>\n    </tr>\n    <tr>\n      <th>9998</th>\n      <td>2.735773</td>\n      <td>3.370653</td>\n      <td>1.0</td>\n    </tr>\n    <tr>\n      <th>9999</th>\n      <td>2.865188</td>\n      <td>3.330879</td>\n      <td>1.0</td>\n    </tr>\n  </tbody>\n</table>\n<p>10000 rows × 3 columns</p>\n</div>"
     },
     "execution_count": 11,
     "metadata": {},
     "output_type": "execute_result"
    }
   ],
   "source": [
    "df = pd.read_csv('datasets/custom_dataset_10k.csv', index_col=0)\n",
    "df"
   ],
   "metadata": {
    "collapsed": false
   }
  },
  {
   "cell_type": "code",
   "execution_count": 12,
   "outputs": [
    {
     "name": "stdout",
     "output_type": "stream",
     "text": [
      "Feature dimension: 2\n"
     ]
    }
   ],
   "source": [
    "feature_dimension = df.shape[1] - 1\n",
    "print(f\"Feature dimension: {feature_dimension}\")"
   ],
   "metadata": {
    "collapsed": false
   }
  },
  {
   "cell_type": "code",
   "execution_count": 13,
   "outputs": [],
   "source": [
    "# Split the data into training and test sets\n",
    "all_features = df.copy()\n",
    "all_labels = all_features.pop('label')\n",
    "\n",
    "train = df.sample(frac=0.75, random_state=42)\n",
    "test = df.drop(train.index)\n",
    "\n",
    "# Separate the features from the labels\n",
    "train_features = train.copy()\n",
    "test_features = test.copy()\n",
    "\n",
    "train_labels = train_features.pop('label')\n",
    "test_labels = test_features.pop('label')"
   ],
   "metadata": {
    "collapsed": false
   }
  },
  {
   "cell_type": "markdown",
   "source": [
    "## Find best SVM setting\n",
    "\n",
    "Try different kernels with different settings and plot the winning circuit"
   ],
   "metadata": {
    "collapsed": false
   }
  },
  {
   "cell_type": "code",
   "execution_count": 14,
   "outputs": [],
   "source": [
    "algorithm_globals.random_seed = 42\n",
    "quantum_instance = QuantumInstance(Aer.get_backend(\"aer_simulator\"), shots=512) # reduced number of shots a bit to help improve training speed"
   ],
   "metadata": {
    "collapsed": false
   }
  },
  {
   "cell_type": "code",
   "execution_count": 15,
   "outputs": [],
   "source": [
    "# Specify kernel experiments:\n",
    "\n",
    "kernels = [\n",
    "    QuantumKernel(feature_map=(ZZFeatureMap(feature_dimension=feature_dimension, reps=1, entanglement='linear')),\n",
    "                  quantum_instance=quantum_instance),\n",
    "    QuantumKernel(feature_map=(ZZFeatureMap(feature_dimension=feature_dimension, reps=2, entanglement='linear')),\n",
    "                  quantum_instance=quantum_instance),\n",
    "    QuantumKernel(feature_map=(ZZFeatureMap(feature_dimension=feature_dimension, reps=3, entanglement='linear')),\n",
    "                  quantum_instance=quantum_instance),\n",
    "    QuantumKernel(feature_map=(ZZFeatureMap(feature_dimension=feature_dimension, reps=4, entanglement='linear')),\n",
    "                  quantum_instance=quantum_instance),\n",
    "    QuantumKernel(feature_map=(ZZFeatureMap(feature_dimension=feature_dimension, reps=1, entanglement='sca')),\n",
    "                  quantum_instance=quantum_instance),\n",
    "    QuantumKernel(feature_map=(ZZFeatureMap(feature_dimension=feature_dimension, reps=2, entanglement='sca')),\n",
    "                  quantum_instance=quantum_instance),\n",
    "    QuantumKernel(feature_map=(ZZFeatureMap(feature_dimension=feature_dimension, reps=3, entanglement='sca')),\n",
    "                  quantum_instance=quantum_instance),\n",
    "    QuantumKernel(feature_map=(ZZFeatureMap(feature_dimension=feature_dimension, reps=4, entanglement='sca')),\n",
    "                  quantum_instance=quantum_instance),\n",
    "    QuantumKernel(feature_map=PauliFeatureMap(feature_dimension=feature_dimension, reps=1, entanglement='linear', paulis=['ZZ']),\n",
    "                  quantum_instance=quantum_instance),\n",
    "    QuantumKernel(feature_map=PauliFeatureMap(feature_dimension=feature_dimension, reps=1, entanglement='linear', paulis=['Z', 'XX']),\n",
    "                  quantum_instance=quantum_instance),\n",
    "    # QuantumKernel(feature_map=PauliFeatureMap(feature_dimension=feature_dimension, reps=2, entanglement='linear', paulis=['ZZ']),\n",
    "    #               quantum_instance=quantum_instance),\n",
    "    # QuantumKernel(feature_map=PauliFeatureMap(feature_dimension=feature_dimension, reps=2, entanglement='linear', paulis=['Z', 'XX']),\n",
    "    #               quantum_instance=quantum_instance),\n",
    "    # FidelityQuantumKernel(feature_map=ZZFeatureMap(feature_dimension=feature_dimension, reps=2, entanglement='linear'),\n",
    "    #                       fidelity=ComputeUncompute(sampler=Sampler())),\n",
    "    # FidelityQuantumKernel(feature_map=ZZFeatureMap(feature_dimension=feature_dimension, reps=3, entanglement='linear'),\n",
    "    #                       fidelity=ComputeUncompute(sampler=Sampler())),\n",
    "    # FidelityQuantumKernel(feature_map=PauliFeatureMap(feature_dimension=feature_dimension, reps=1, entanglement='linear', paulis=['Z', 'XX']),\n",
    "    #                       fidelity=ComputeUncompute(sampler=Sampler())),\n",
    "    # FidelityQuantumKernel(feature_map=PauliFeatureMap(feature_dimension=feature_dimension, reps=1, entanglement='linear', paulis=['Z', 'XX']),\n",
    "    #                       fidelity=ComputeUncompute(sampler=Sampler()))\n",
    "]"
   ],
   "metadata": {
    "collapsed": false
   }
  },
  {
   "cell_type": "code",
   "execution_count": 16,
   "outputs": [],
   "source": [
    "# svc = SVC()\n",
    "# search = RandomizedSearchCV(svc, cv=10, n_iter=16, n_jobs=-1, refit=True,\n",
    "#                             param_distributions={'kernel': [kernel.evaluate for kernel in kernels]})\n",
    "# # search.fit(train_features, train_labels)\n",
    "# search.fit(all_features, all_labels)"
   ],
   "metadata": {
    "collapsed": false
   }
  },
  {
   "cell_type": "code",
   "execution_count": 17,
   "outputs": [],
   "source": [
    "# best_kernel = search.best_params_['kernel'].__self__\n",
    "# print(f\"Best is kernel {kernels.index(best_kernel)} using {best_kernel.feature_map.__class__.__name__} with {best_kernel.feature_map.reps} reps and {best_kernel.feature_map.entanglement} entanglement\")\n",
    "# svc = search.best_estimator_\n",
    "# best_kernel.feature_map.decompose().draw(output='mpl')"
   ],
   "metadata": {
    "collapsed": false
   }
  },
  {
   "cell_type": "markdown",
   "source": [
    "## Train the winning kernel circuit using 10-fold cross validation"
   ],
   "metadata": {
    "collapsed": false
   }
  },
  {
   "cell_type": "code",
   "execution_count": 18,
   "outputs": [
    {
     "name": "stderr",
     "output_type": "stream",
     "text": [
      "Process LokyProcess-18:12789:\n",
      "Traceback (most recent call last):\n",
      "  File \"/home/lukas/miniconda3/envs/qc-project/lib/python3.8/multiprocessing/process.py\", line 315, in _bootstrap\n",
      "    self.run()\n",
      "  File \"/home/lukas/miniconda3/envs/qc-project/lib/python3.8/multiprocessing/process.py\", line 108, in run\n",
      "    self._target(*self._args, **self._kwargs)\n",
      "  File \"/home/lukas/miniconda3/envs/qc-project/lib/python3.8/concurrent/futures/process.py\", line 233, in _process_worker\n",
      "    call_item = call_queue.get(block=True)\n",
      "  File \"/home/lukas/miniconda3/envs/qc-project/lib/python3.8/multiprocessing/queues.py\", line 96, in get\n",
      "    with self._rlock:\n",
      "  File \"/home/lukas/miniconda3/envs/qc-project/lib/python3.8/site-packages/joblib/externals/loky/backend/synchronize.py\", line 110, in __enter__\n",
      "    return self._semlock.acquire()\n",
      "KeyboardInterrupt\n",
      "Process LokyProcess-18:12792:\n",
      "Traceback (most recent call last):\n",
      "  File \"/home/lukas/miniconda3/envs/qc-project/lib/python3.8/multiprocessing/process.py\", line 315, in _bootstrap\n",
      "    self.run()\n",
      "  File \"/home/lukas/miniconda3/envs/qc-project/lib/python3.8/multiprocessing/process.py\", line 108, in run\n",
      "    self._target(*self._args, **self._kwargs)\n",
      "  File \"/home/lukas/miniconda3/envs/qc-project/lib/python3.8/concurrent/futures/process.py\", line 233, in _process_worker\n",
      "    call_item = call_queue.get(block=True)\n",
      "  File \"/home/lukas/miniconda3/envs/qc-project/lib/python3.8/multiprocessing/queues.py\", line 96, in get\n",
      "    with self._rlock:\n",
      "  File \"/home/lukas/miniconda3/envs/qc-project/lib/python3.8/site-packages/joblib/externals/loky/backend/synchronize.py\", line 110, in __enter__\n",
      "    return self._semlock.acquire()\n",
      "KeyboardInterrupt\n",
      "Process LokyProcess-18:12785:\n",
      "Traceback (most recent call last):\n",
      "  File \"/home/lukas/miniconda3/envs/qc-project/lib/python3.8/multiprocessing/process.py\", line 315, in _bootstrap\n",
      "    self.run()\n",
      "  File \"/home/lukas/miniconda3/envs/qc-project/lib/python3.8/multiprocessing/process.py\", line 108, in run\n",
      "    self._target(*self._args, **self._kwargs)\n",
      "  File \"/home/lukas/miniconda3/envs/qc-project/lib/python3.8/concurrent/futures/process.py\", line 233, in _process_worker\n",
      "    call_item = call_queue.get(block=True)\n",
      "  File \"/home/lukas/miniconda3/envs/qc-project/lib/python3.8/multiprocessing/queues.py\", line 96, in get\n",
      "    with self._rlock:\n",
      "  File \"/home/lukas/miniconda3/envs/qc-project/lib/python3.8/site-packages/joblib/externals/loky/backend/synchronize.py\", line 110, in __enter__\n",
      "    return self._semlock.acquire()\n",
      "KeyboardInterrupt\n",
      "Traceback (most recent call last):\n",
      "  File \"/home/lukas/miniconda3/envs/qc-project/lib/python3.8/runpy.py\", line 185, in _run_module_as_main\n",
      "    mod_name, mod_spec, code = _get_module_details(mod_name, _Error)\n",
      "  File \"/home/lukas/miniconda3/envs/qc-project/lib/python3.8/runpy.py\", line 111, in _get_module_details\n",
      "    __import__(pkg_name)\n",
      "  File \"/home/lukas/miniconda3/envs/qc-project/lib/python3.8/site-packages/joblib/__init__.py\", line 113, in <module>\n",
      "    from .memory import Memory, MemorizedResult, register_store_backend\n",
      "  File \"/home/lukas/miniconda3/envs/qc-project/lib/python3.8/site-packages/joblib/memory.py\", line 32, in <module>\n",
      "    from ._store_backends import StoreBackendBase, FileSystemStoreBackend\n",
      "  File \"/home/lukas/miniconda3/envs/qc-project/lib/python3.8/site-packages/joblib/_store_backends.py\", line 15, in <module>\n",
      "    from .backports import concurrency_safe_rename\n",
      "  File \"/home/lukas/miniconda3/envs/qc-project/lib/python3.8/site-packages/joblib/backports.py\", line 13, in <module>\n",
      "    import numpy as np\n",
      "  File \"/home/lukas/miniconda3/envs/qc-project/lib/python3.8/site-packages/numpy/__init__.py\", line 140, in <module>\n",
      "    from . import core\n",
      "  File \"/home/lukas/miniconda3/envs/qc-project/lib/python3.8/site-packages/numpy/core/__init__.py\", line 103, in <module>\n",
      "    from . import _internal\n",
      "  File \"/home/lukas/miniconda3/envs/qc-project/lib/python3.8/site-packages/numpy/core/_internal.py\", line 150, in <module>\n",
      "    sep_re = re.compile(r'\\s*,\\s*')\n",
      "  File \"/home/lukas/miniconda3/envs/qc-project/lib/python3.8/re.py\", line 252, in compile\n",
      "    return _compile(pattern, flags)\n",
      "  File \"/home/lukas/miniconda3/envs/qc-project/lib/python3.8/re.py\", line 304, in _compile\n",
      "    p = sre_compile.compile(pattern, flags)\n",
      "  File \"/home/lukas/miniconda3/envs/qc-project/lib/python3.8/sre_compile.py\", line 768, in compile\n",
      "    code = _code(p, flags)\n",
      "  File \"/home/lukas/miniconda3/envs/qc-project/lib/python3.8/sre_compile.py\", line 607, in _code\n",
      "    _compile(code, p.data, flags)\n",
      "  File \"/home/lukas/miniconda3/envs/qc-project/lib/python3.8/sre_compile.py\", line 148, in _compile\n",
      "    _compile(code, av[2], flags)\n",
      "  File \"/home/lukas/miniconda3/envs/qc-project/lib/python3.8/sre_compile.py\", line 120, in _compile\n",
      "    charset, hascased = _optimize_charset(av, iscased, tolower, fixes)\n",
      "  File \"/home/lukas/miniconda3/envs/qc-project/lib/python3.8/sre_compile.py\", line 348, in _optimize_charset\n",
      "    if runs is not None:\n",
      "KeyboardInterrupt\n",
      "Traceback (most recent call last):\n",
      "  File \"/home/lukas/miniconda3/envs/qc-project/lib/python3.8/runpy.py\", line 185, in _run_module_as_main\n",
      "    mod_name, mod_spec, code = _get_module_details(mod_name, _Error)\n",
      "  File \"/home/lukas/miniconda3/envs/qc-project/lib/python3.8/runpy.py\", line 111, in _get_module_details\n",
      "    __import__(pkg_name)\n",
      "  File \"/home/lukas/miniconda3/envs/qc-project/lib/python3.8/site-packages/joblib/__init__.py\", line 113, in <module>\n",
      "    from .memory import Memory, MemorizedResult, register_store_backend\n",
      "  File \"/home/lukas/miniconda3/envs/qc-project/lib/python3.8/site-packages/joblib/memory.py\", line 32, in <module>\n",
      "    from ._store_backends import StoreBackendBase, FileSystemStoreBackend\n",
      "  File \"/home/lukas/miniconda3/envs/qc-project/lib/python3.8/site-packages/joblib/_store_backends.py\", line 15, in <module>\n",
      "    from .backports import concurrency_safe_rename\n",
      "  File \"/home/lukas/miniconda3/envs/qc-project/lib/python3.8/site-packages/joblib/backports.py\", line 13, in <module>\n",
      "    import numpy as np\n",
      "  File \"/home/lukas/miniconda3/envs/qc-project/lib/python3.8/site-packages/numpy/__init__.py\", line 393, in <module>\n",
      "    kernel_version = tuple(int(v) for v in kernel_version)\n",
      "KeyboardInterrupt\n",
      "Process LokyProcess-18:12788:\n",
      "Traceback (most recent call last):\n",
      "  File \"/home/lukas/miniconda3/envs/qc-project/lib/python3.8/multiprocessing/process.py\", line 315, in _bootstrap\n",
      "    self.run()\n",
      "  File \"/home/lukas/miniconda3/envs/qc-project/lib/python3.8/multiprocessing/process.py\", line 108, in run\n",
      "    self._target(*self._args, **self._kwargs)\n",
      "  File \"/home/lukas/miniconda3/envs/qc-project/lib/python3.8/concurrent/futures/process.py\", line 233, in _process_worker\n",
      "    call_item = call_queue.get(block=True)\n",
      "  File \"/home/lukas/miniconda3/envs/qc-project/lib/python3.8/multiprocessing/queues.py\", line 96, in get\n",
      "    with self._rlock:\n",
      "  File \"/home/lukas/miniconda3/envs/qc-project/lib/python3.8/site-packages/joblib/externals/loky/backend/synchronize.py\", line 110, in __enter__\n",
      "    return self._semlock.acquire()\n",
      "KeyboardInterrupt\n",
      "Process LokyProcess-18:12791:\n",
      "Traceback (most recent call last):\n",
      "  File \"/home/lukas/miniconda3/envs/qc-project/lib/python3.8/multiprocessing/process.py\", line 315, in _bootstrap\n",
      "    self.run()\n",
      "  File \"/home/lukas/miniconda3/envs/qc-project/lib/python3.8/multiprocessing/process.py\", line 108, in run\n",
      "    self._target(*self._args, **self._kwargs)\n",
      "  File \"/home/lukas/miniconda3/envs/qc-project/lib/python3.8/concurrent/futures/process.py\", line 233, in _process_worker\n",
      "    call_item = call_queue.get(block=True)\n",
      "  File \"/home/lukas/miniconda3/envs/qc-project/lib/python3.8/multiprocessing/queues.py\", line 96, in get\n",
      "    with self._rlock:\n",
      "  File \"/home/lukas/miniconda3/envs/qc-project/lib/python3.8/site-packages/joblib/externals/loky/backend/synchronize.py\", line 110, in __enter__\n",
      "    return self._semlock.acquire()\n",
      "KeyboardInterrupt\n",
      "Process LokyProcess-18:12790:\n",
      "Traceback (most recent call last):\n",
      "  File \"/home/lukas/miniconda3/envs/qc-project/lib/python3.8/multiprocessing/process.py\", line 315, in _bootstrap\n",
      "    self.run()\n",
      "  File \"/home/lukas/miniconda3/envs/qc-project/lib/python3.8/multiprocessing/process.py\", line 108, in run\n",
      "    self._target(*self._args, **self._kwargs)\n",
      "  File \"/home/lukas/miniconda3/envs/qc-project/lib/python3.8/concurrent/futures/process.py\", line 233, in _process_worker\n",
      "    call_item = call_queue.get(block=True)\n",
      "  File \"/home/lukas/miniconda3/envs/qc-project/lib/python3.8/multiprocessing/queues.py\", line 96, in get\n",
      "    with self._rlock:\n",
      "  File \"/home/lukas/miniconda3/envs/qc-project/lib/python3.8/site-packages/joblib/externals/loky/backend/synchronize.py\", line 110, in __enter__\n",
      "    return self._semlock.acquire()\n",
      "KeyboardInterrupt\n",
      "Process LokyProcess-18:12787:\n",
      "Traceback (most recent call last):\n",
      "  File \"/home/lukas/miniconda3/envs/qc-project/lib/python3.8/multiprocessing/process.py\", line 315, in _bootstrap\n",
      "    self.run()\n",
      "  File \"/home/lukas/miniconda3/envs/qc-project/lib/python3.8/multiprocessing/process.py\", line 108, in run\n",
      "    self._target(*self._args, **self._kwargs)\n",
      "  File \"/home/lukas/miniconda3/envs/qc-project/lib/python3.8/concurrent/futures/process.py\", line 233, in _process_worker\n",
      "    call_item = call_queue.get(block=True)\n",
      "  File \"/home/lukas/miniconda3/envs/qc-project/lib/python3.8/multiprocessing/queues.py\", line 97, in get\n",
      "    res = self._recv_bytes()\n",
      "  File \"/home/lukas/miniconda3/envs/qc-project/lib/python3.8/multiprocessing/connection.py\", line 216, in recv_bytes\n",
      "    buf = self._recv_bytes(maxlength)\n",
      "  File \"/home/lukas/miniconda3/envs/qc-project/lib/python3.8/multiprocessing/connection.py\", line 414, in _recv_bytes\n",
      "    buf = self._recv(4)\n",
      "  File \"/home/lukas/miniconda3/envs/qc-project/lib/python3.8/multiprocessing/connection.py\", line 379, in _recv\n",
      "    chunk = read(handle, remaining)\n",
      "KeyboardInterrupt\n",
      "Traceback (most recent call last):\n",
      "  File \"/home/lukas/miniconda3/envs/qc-project/lib/python3.8/runpy.py\", line 185, in _run_module_as_main\n",
      "    mod_name, mod_spec, code = _get_module_details(mod_name, _Error)\n",
      "  File \"/home/lukas/miniconda3/envs/qc-project/lib/python3.8/runpy.py\", line 111, in _get_module_details\n",
      "    __import__(pkg_name)\n",
      "  File \"/home/lukas/miniconda3/envs/qc-project/lib/python3.8/site-packages/joblib/__init__.py\", line 113, in <module>\n",
      "    from .memory import Memory, MemorizedResult, register_store_backend\n",
      "  File \"/home/lukas/miniconda3/envs/qc-project/lib/python3.8/site-packages/joblib/memory.py\", line 32, in <module>\n",
      "    from ._store_backends import StoreBackendBase, FileSystemStoreBackend\n",
      "  File \"/home/lukas/miniconda3/envs/qc-project/lib/python3.8/site-packages/joblib/_store_backends.py\", line 15, in <module>\n",
      "    from .backports import concurrency_safe_rename\n",
      "  File \"/home/lukas/miniconda3/envs/qc-project/lib/python3.8/site-packages/joblib/backports.py\", line 13, in <module>\n",
      "    import numpy as np\n",
      "  File \"/home/lukas/miniconda3/envs/qc-project/lib/python3.8/site-packages/numpy/__init__.py\", line 140, in <module>\n",
      "    from . import core\n",
      "  File \"/home/lukas/miniconda3/envs/qc-project/lib/python3.8/site-packages/numpy/core/__init__.py\", line 90, in <module>\n",
      "    from . import einsumfunc\n",
      "  File \"<frozen importlib._bootstrap>\", line 991, in _find_and_load\n",
      "  File \"<frozen importlib._bootstrap>\", line 979, in _find_and_load_unlocked\n",
      "KeyboardInterrupt\n",
      "Traceback (most recent call last):\n",
      "  File \"/home/lukas/miniconda3/envs/qc-project/lib/python3.8/runpy.py\", line 185, in _run_module_as_main\n",
      "    mod_name, mod_spec, code = _get_module_details(mod_name, _Error)\n",
      "  File \"/home/lukas/miniconda3/envs/qc-project/lib/python3.8/runpy.py\", line 111, in _get_module_details\n",
      "    __import__(pkg_name)\n",
      "  File \"/home/lukas/miniconda3/envs/qc-project/lib/python3.8/site-packages/joblib/__init__.py\", line 113, in <module>\n",
      "    from .memory import Memory, MemorizedResult, register_store_backend\n",
      "  File \"/home/lukas/miniconda3/envs/qc-project/lib/python3.8/site-packages/joblib/memory.py\", line 32, in <module>\n",
      "    from ._store_backends import StoreBackendBase, FileSystemStoreBackend\n",
      "  File \"/home/lukas/miniconda3/envs/qc-project/lib/python3.8/site-packages/joblib/_store_backends.py\", line 15, in <module>\n",
      "    from .backports import concurrency_safe_rename\n",
      "  File \"/home/lukas/miniconda3/envs/qc-project/lib/python3.8/site-packages/joblib/backports.py\", line 13, in <module>\n",
      "    import numpy as np\n",
      "  File \"/home/lukas/miniconda3/envs/qc-project/lib/python3.8/site-packages/numpy/__init__.py\", line 140, in <module>\n",
      "    from . import core\n",
      "  File \"/home/lukas/miniconda3/envs/qc-project/lib/python3.8/site-packages/numpy/core/__init__.py\", line 23, in <module>\n",
      "    from . import multiarray\n",
      "  File \"/home/lukas/miniconda3/envs/qc-project/lib/python3.8/site-packages/numpy/core/multiarray.py\", line 10, in <module>\n",
      "    from . import overrides\n",
      "  File \"/home/lukas/miniconda3/envs/qc-project/lib/python3.8/site-packages/numpy/core/overrides.py\", line 8, in <module>\n",
      "    from numpy.compat._inspect import getargspec\n",
      "  File \"/home/lukas/miniconda3/envs/qc-project/lib/python3.8/site-packages/numpy/compat/__init__.py\", line 11, in <module>\n",
      "    from . import _inspect\n",
      "  File \"<frozen importlib._bootstrap>\", line 991, in _find_and_load\n",
      "  File \"<frozen importlib._bootstrap>\", line 975, in _find_and_load_unlocked\n",
      "  File \"<frozen importlib._bootstrap>\", line 657, in _load_unlocked\n",
      "  File \"<frozen importlib._bootstrap>\", line 562, in module_from_spec\n",
      "  File \"<frozen importlib._bootstrap>\", line 541, in _init_module_attrs\n",
      "  File \"<frozen importlib._bootstrap>\", line 382, in cached\n",
      "  File \"<frozen importlib._bootstrap_external>\", line 487, in _get_cached\n",
      "  File \"<frozen importlib._bootstrap_external>\", line 380, in cache_from_source\n",
      "  File \"<frozen importlib._bootstrap_external>\", line 129, in _path_split\n",
      "  File \"<frozen importlib._bootstrap_external>\", line 129, in <genexpr>\n",
      "KeyboardInterrupt\n",
      "Traceback (most recent call last):\n",
      "  File \"/home/lukas/miniconda3/envs/qc-project/lib/python3.8/runpy.py\", line 185, in _run_module_as_main\n",
      "    mod_name, mod_spec, code = _get_module_details(mod_name, _Error)\n",
      "  File \"/home/lukas/miniconda3/envs/qc-project/lib/python3.8/runpy.py\", line 111, in _get_module_details\n",
      "    __import__(pkg_name)\n",
      "  File \"/home/lukas/miniconda3/envs/qc-project/lib/python3.8/site-packages/joblib/__init__.py\", line 113, in <module>\n",
      "    from .memory import Memory, MemorizedResult, register_store_backend\n",
      "  File \"/home/lukas/miniconda3/envs/qc-project/lib/python3.8/site-packages/joblib/memory.py\", line 32, in <module>\n",
      "    from ._store_backends import StoreBackendBase, FileSystemStoreBackend\n",
      "  File \"/home/lukas/miniconda3/envs/qc-project/lib/python3.8/site-packages/joblib/_store_backends.py\", line 15, in <module>\n",
      "    from .backports import concurrency_safe_rename\n",
      "  File \"/home/lukas/miniconda3/envs/qc-project/lib/python3.8/site-packages/joblib/backports.py\", line 13, in <module>\n",
      "    import numpy as np\n",
      "  File \"/home/lukas/miniconda3/envs/qc-project/lib/python3.8/site-packages/numpy/__init__.py\", line 225, in <module>\n",
      "    core.getlimits._register_known_types()\n",
      "  File \"/home/lukas/miniconda3/envs/qc-project/lib/python3.8/site-packages/numpy/core/getlimits.py\", line 253, in _register_known_types\n",
      "    float80_ma = MachArLike(ld,\n",
      "  File \"/home/lukas/miniconda3/envs/qc-project/lib/python3.8/site-packages/numpy/core/getlimits.py\", line 60, in __init__\n",
      "    self._str_smallest_normal = self._float_to_str(self.xmin)\n",
      "  File \"/home/lukas/miniconda3/envs/qc-project/lib/python3.8/site-packages/numpy/core/getlimits.py\", line 119, in _float_to_str\n",
      "    return self.params['fmt'] % array(_fr0(value)[0], self.ftype)\n",
      "  File \"/home/lukas/miniconda3/envs/qc-project/lib/python3.8/site-packages/numpy/core/arrayprint.py\", line 1590, in _array_str_implementation\n",
      "    return _guarded_repr_or_str(np.ndarray.__getitem__(a, ()))\n",
      "  File \"/home/lukas/miniconda3/envs/qc-project/lib/python3.8/site-packages/numpy/core/arrayprint.py\", line 513, in wrapper\n",
      "    return f(self, *args, **kwargs)\n",
      "  File \"/home/lukas/miniconda3/envs/qc-project/lib/python3.8/site-packages/numpy/core/arrayprint.py\", line 1572, in _guarded_repr_or_str\n",
      "    return str(v)\n",
      "KeyboardInterrupt\n",
      "Process LokyProcess-18:12786:\n",
      "Traceback (most recent call last):\n",
      "  File \"/home/lukas/miniconda3/envs/qc-project/lib/python3.8/multiprocessing/process.py\", line 315, in _bootstrap\n",
      "    self.run()\n",
      "  File \"/home/lukas/miniconda3/envs/qc-project/lib/python3.8/multiprocessing/process.py\", line 108, in run\n",
      "    self._target(*self._args, **self._kwargs)\n",
      "  File \"/home/lukas/miniconda3/envs/qc-project/lib/python3.8/concurrent/futures/process.py\", line 233, in _process_worker\n",
      "    call_item = call_queue.get(block=True)\n",
      "  File \"/home/lukas/miniconda3/envs/qc-project/lib/python3.8/multiprocessing/queues.py\", line 96, in get\n",
      "    with self._rlock:\n",
      "  File \"/home/lukas/miniconda3/envs/qc-project/lib/python3.8/site-packages/joblib/externals/loky/backend/synchronize.py\", line 110, in __enter__\n",
      "    return self._semlock.acquire()\n",
      "KeyboardInterrupt\n",
      "Process LokyProcess-26:12914:\n",
      "Traceback (most recent call last):\n",
      "  File \"/home/lukas/miniconda3/envs/qc-project/lib/python3.8/multiprocessing/process.py\", line 315, in _bootstrap\n",
      "    self.run()\n",
      "  File \"/home/lukas/miniconda3/envs/qc-project/lib/python3.8/multiprocessing/process.py\", line 108, in run\n",
      "    self._target(*self._args, **self._kwargs)\n",
      "  File \"/home/lukas/miniconda3/envs/qc-project/lib/python3.8/concurrent/futures/process.py\", line 233, in _process_worker\n",
      "    call_item = call_queue.get(block=True)\n",
      "  File \"/home/lukas/miniconda3/envs/qc-project/lib/python3.8/multiprocessing/queues.py\", line 116, in get\n",
      "    return _ForkingPickler.loads(res)\n",
      "  File \"/home/lukas/miniconda3/envs/qc-project/lib/python3.8/site-packages/qiskit/__init__.py\", line 50, in <module>\n",
      "    from qiskit.circuit import ClassicalRegister\n",
      "  File \"/home/lukas/miniconda3/envs/qc-project/lib/python3.8/site-packages/qiskit/circuit/__init__.py\", line 278, in <module>\n",
      "    from .quantumcircuit import QuantumCircuit\n",
      "  File \"/home/lukas/miniconda3/envs/qc-project/lib/python3.8/site-packages/qiskit/circuit/quantumcircuit.py\", line 60, in <module>\n",
      "    from .measure import Measure\n",
      "  File \"<frozen importlib._bootstrap>\", line 986, in _find_and_load\n",
      "KeyboardInterrupt\n",
      "Traceback (most recent call last):\n",
      "  File \"/home/lukas/miniconda3/envs/qc-project/lib/python3.8/runpy.py\", line 185, in _run_module_as_main\n",
      "    mod_name, mod_spec, code = _get_module_details(mod_name, _Error)\n",
      "  File \"/home/lukas/miniconda3/envs/qc-project/lib/python3.8/runpy.py\", line 111, in _get_module_details\n",
      "    __import__(pkg_name)\n",
      "  File \"/home/lukas/miniconda3/envs/qc-project/lib/python3.8/site-packages/joblib/__init__.py\", line 120, in <module>\n",
      "    from .parallel import Parallel\n",
      "  File \"/home/lukas/miniconda3/envs/qc-project/lib/python3.8/site-packages/joblib/parallel.py\", line 26, in <module>\n",
      "    from ._parallel_backends import (FallbackToBackend, MultiprocessingBackend,\n",
      "  File \"/home/lukas/miniconda3/envs/qc-project/lib/python3.8/site-packages/joblib/_parallel_backends.py\", line 17, in <module>\n",
      "    from .pool import MemmappingPool\n",
      "  File \"/home/lukas/miniconda3/envs/qc-project/lib/python3.8/site-packages/joblib/pool.py\", line 31, in <module>\n",
      "    from ._memmapping_reducer import get_memmapping_reducers\n",
      "  File \"/home/lukas/miniconda3/envs/qc-project/lib/python3.8/site-packages/joblib/_memmapping_reducer.py\", line 37, in <module>\n",
      "    from .externals.loky.backend import resource_tracker\n",
      "  File \"/home/lukas/miniconda3/envs/qc-project/lib/python3.8/site-packages/joblib/externals/loky/__init__.py\", line 13, in <module>\n",
      "    from .reusable_executor import get_reusable_executor\n",
      "  File \"/home/lukas/miniconda3/envs/qc-project/lib/python3.8/site-packages/joblib/externals/loky/reusable_executor.py\", line 11, in <module>\n",
      "    from .process_executor import ProcessPoolExecutor, EXTRA_QUEUED_CALLS\n",
      "  File \"/home/lukas/miniconda3/envs/qc-project/lib/python3.8/site-packages/joblib/externals/loky/process_executor.py\", line 84, in <module>\n",
      "    from .backend.utils import recursive_terminate, get_exitcodes_terminated_worker\n",
      "  File \"/home/lukas/miniconda3/envs/qc-project/lib/python3.8/site-packages/joblib/externals/loky/backend/utils.py\", line 10, in <module>\n",
      "    import psutil\n",
      "  File \"/home/lukas/miniconda3/envs/qc-project/lib/python3.8/site-packages/psutil/__init__.py\", line 42, in <module>\n",
      "    from . import _common\n",
      "  File \"/home/lukas/miniconda3/envs/qc-project/lib/python3.8/site-packages/psutil/_common.py\", line 210, in <module>\n",
      "    sbattery = namedtuple('sbattery', ['percent', 'secsleft', 'power_plugged'])\n",
      "  File \"/home/lukas/miniconda3/envs/qc-project/lib/python3.8/collections/__init__.py\", line 407, in namedtuple\n",
      "    _make.__func__.__doc__ = (f'Make a new {typename} object from a sequence '\n",
      "KeyboardInterrupt\n",
      "Traceback (most recent call last):\n",
      "  File \"<frozen importlib._bootstrap_external>\", line 1346, in _path_importer_cache\n",
      "KeyError: '/home/lukas/miniconda3/envs/qc-project/lib/python3.8/site-packages/joblib/externals'\n",
      "\n",
      "During handling of the above exception, another exception occurred:\n",
      "\n",
      "Traceback (most recent call last):\n",
      "  File \"/home/lukas/miniconda3/envs/qc-project/lib/python3.8/runpy.py\", line 185, in _run_module_as_main\n",
      "    mod_name, mod_spec, code = _get_module_details(mod_name, _Error)\n",
      "  File \"/home/lukas/miniconda3/envs/qc-project/lib/python3.8/runpy.py\", line 111, in _get_module_details\n",
      "    __import__(pkg_name)\n",
      "  File \"/home/lukas/miniconda3/envs/qc-project/lib/python3.8/site-packages/joblib/__init__.py\", line 120, in <module>\n",
      "    from .parallel import Parallel\n",
      "  File \"/home/lukas/miniconda3/envs/qc-project/lib/python3.8/site-packages/joblib/parallel.py\", line 26, in <module>\n",
      "    from ._parallel_backends import (FallbackToBackend, MultiprocessingBackend,\n",
      "  File \"/home/lukas/miniconda3/envs/qc-project/lib/python3.8/site-packages/joblib/_parallel_backends.py\", line 17, in <module>\n",
      "    from .pool import MemmappingPool\n",
      "  File \"/home/lukas/miniconda3/envs/qc-project/lib/python3.8/site-packages/joblib/pool.py\", line 31, in <module>\n",
      "    from ._memmapping_reducer import get_memmapping_reducers\n",
      "  File \"/home/lukas/miniconda3/envs/qc-project/lib/python3.8/site-packages/joblib/_memmapping_reducer.py\", line 37, in <module>\n",
      "    from .externals.loky.backend import resource_tracker\n",
      "  File \"<frozen importlib._bootstrap>\", line 991, in _find_and_load\n",
      "  File \"<frozen importlib._bootstrap>\", line 971, in _find_and_load_unlocked\n",
      "  File \"<frozen importlib._bootstrap>\", line 914, in _find_spec\n",
      "  File \"<frozen importlib._bootstrap_external>\", line 1407, in find_spec\n",
      "  File \"<frozen importlib._bootstrap_external>\", line 1376, in _get_spec\n",
      "  File \"<frozen importlib._bootstrap_external>\", line 1348, in _path_importer_cache\n",
      "  File \"<frozen importlib._bootstrap_external>\", line 1324, in _path_hooks\n",
      "  File \"<frozen zipimport>\", line 88, in __init__\n",
      "KeyboardInterrupt\n",
      "FAILURE: Can not get job id, Resubmit the qobj to get job id. Terra job error: 'Keyboard interrupt in parallel_map.' \n"
     ]
    },
    {
     "ename": "KeyboardInterrupt",
     "evalue": "",
     "output_type": "error",
     "traceback": [
      "\u001B[0;31m---------------------------------------------------------------------------\u001B[0m",
      "\u001B[0;31mKeyboardInterrupt\u001B[0m                         Traceback (most recent call last)",
      "Cell \u001B[0;32mIn[18], line 4\u001B[0m\n\u001B[1;32m      1\u001B[0m best_kernel \u001B[38;5;241m=\u001B[39m kernels[\u001B[38;5;241m0\u001B[39m] \u001B[38;5;66;03m# Index from output above\u001B[39;00m\n\u001B[1;32m      2\u001B[0m svc \u001B[38;5;241m=\u001B[39m SVC(kernel\u001B[38;5;241m=\u001B[39mbest_kernel\u001B[38;5;241m.\u001B[39mevaluate)\n\u001B[0;32m----> 4\u001B[0m results \u001B[38;5;241m=\u001B[39m \u001B[43mcross_validate\u001B[49m\u001B[43m(\u001B[49m\u001B[43msvc\u001B[49m\u001B[43m,\u001B[49m\u001B[43m \u001B[49m\u001B[43mtrain_features\u001B[49m\u001B[43m,\u001B[49m\u001B[43m \u001B[49m\u001B[43mtrain_labels\u001B[49m\u001B[43m,\u001B[49m\u001B[43m \u001B[49m\u001B[43mcv\u001B[49m\u001B[38;5;241;43m=\u001B[39;49m\u001B[38;5;241;43m10\u001B[39;49m\u001B[43m,\u001B[49m\u001B[43m \u001B[49m\u001B[43mn_jobs\u001B[49m\u001B[38;5;241;43m=\u001B[39;49m\u001B[38;5;241;43m-\u001B[39;49m\u001B[38;5;241;43m1\u001B[39;49m\u001B[43m,\u001B[49m\u001B[43m \u001B[49m\u001B[43mreturn_estimator\u001B[49m\u001B[38;5;241;43m=\u001B[39;49m\u001B[38;5;28;43;01mTrue\u001B[39;49;00m\u001B[43m,\u001B[49m\u001B[43m \u001B[49m\u001B[43mreturn_train_score\u001B[49m\u001B[38;5;241;43m=\u001B[39;49m\u001B[38;5;28;43;01mTrue\u001B[39;49;00m\u001B[43m)\u001B[49m\n",
      "File \u001B[0;32m~/miniconda3/envs/qc-project/lib/python3.8/site-packages/sklearn/model_selection/_validation.py:266\u001B[0m, in \u001B[0;36mcross_validate\u001B[0;34m(estimator, X, y, groups, scoring, cv, n_jobs, verbose, fit_params, pre_dispatch, return_train_score, return_estimator, error_score)\u001B[0m\n\u001B[1;32m    263\u001B[0m \u001B[38;5;66;03m# We clone the estimator to make sure that all the folds are\u001B[39;00m\n\u001B[1;32m    264\u001B[0m \u001B[38;5;66;03m# independent, and that it is pickle-able.\u001B[39;00m\n\u001B[1;32m    265\u001B[0m parallel \u001B[38;5;241m=\u001B[39m Parallel(n_jobs\u001B[38;5;241m=\u001B[39mn_jobs, verbose\u001B[38;5;241m=\u001B[39mverbose, pre_dispatch\u001B[38;5;241m=\u001B[39mpre_dispatch)\n\u001B[0;32m--> 266\u001B[0m results \u001B[38;5;241m=\u001B[39m \u001B[43mparallel\u001B[49m\u001B[43m(\u001B[49m\n\u001B[1;32m    267\u001B[0m \u001B[43m    \u001B[49m\u001B[43mdelayed\u001B[49m\u001B[43m(\u001B[49m\u001B[43m_fit_and_score\u001B[49m\u001B[43m)\u001B[49m\u001B[43m(\u001B[49m\n\u001B[1;32m    268\u001B[0m \u001B[43m        \u001B[49m\u001B[43mclone\u001B[49m\u001B[43m(\u001B[49m\u001B[43mestimator\u001B[49m\u001B[43m)\u001B[49m\u001B[43m,\u001B[49m\n\u001B[1;32m    269\u001B[0m \u001B[43m        \u001B[49m\u001B[43mX\u001B[49m\u001B[43m,\u001B[49m\n\u001B[1;32m    270\u001B[0m \u001B[43m        \u001B[49m\u001B[43my\u001B[49m\u001B[43m,\u001B[49m\n\u001B[1;32m    271\u001B[0m \u001B[43m        \u001B[49m\u001B[43mscorers\u001B[49m\u001B[43m,\u001B[49m\n\u001B[1;32m    272\u001B[0m \u001B[43m        \u001B[49m\u001B[43mtrain\u001B[49m\u001B[43m,\u001B[49m\n\u001B[1;32m    273\u001B[0m \u001B[43m        \u001B[49m\u001B[43mtest\u001B[49m\u001B[43m,\u001B[49m\n\u001B[1;32m    274\u001B[0m \u001B[43m        \u001B[49m\u001B[43mverbose\u001B[49m\u001B[43m,\u001B[49m\n\u001B[1;32m    275\u001B[0m \u001B[43m        \u001B[49m\u001B[38;5;28;43;01mNone\u001B[39;49;00m\u001B[43m,\u001B[49m\n\u001B[1;32m    276\u001B[0m \u001B[43m        \u001B[49m\u001B[43mfit_params\u001B[49m\u001B[43m,\u001B[49m\n\u001B[1;32m    277\u001B[0m \u001B[43m        \u001B[49m\u001B[43mreturn_train_score\u001B[49m\u001B[38;5;241;43m=\u001B[39;49m\u001B[43mreturn_train_score\u001B[49m\u001B[43m,\u001B[49m\n\u001B[1;32m    278\u001B[0m \u001B[43m        \u001B[49m\u001B[43mreturn_times\u001B[49m\u001B[38;5;241;43m=\u001B[39;49m\u001B[38;5;28;43;01mTrue\u001B[39;49;00m\u001B[43m,\u001B[49m\n\u001B[1;32m    279\u001B[0m \u001B[43m        \u001B[49m\u001B[43mreturn_estimator\u001B[49m\u001B[38;5;241;43m=\u001B[39;49m\u001B[43mreturn_estimator\u001B[49m\u001B[43m,\u001B[49m\n\u001B[1;32m    280\u001B[0m \u001B[43m        \u001B[49m\u001B[43merror_score\u001B[49m\u001B[38;5;241;43m=\u001B[39;49m\u001B[43merror_score\u001B[49m\u001B[43m,\u001B[49m\n\u001B[1;32m    281\u001B[0m \u001B[43m    \u001B[49m\u001B[43m)\u001B[49m\n\u001B[1;32m    282\u001B[0m \u001B[43m    \u001B[49m\u001B[38;5;28;43;01mfor\u001B[39;49;00m\u001B[43m \u001B[49m\u001B[43mtrain\u001B[49m\u001B[43m,\u001B[49m\u001B[43m \u001B[49m\u001B[43mtest\u001B[49m\u001B[43m \u001B[49m\u001B[38;5;129;43;01min\u001B[39;49;00m\u001B[43m \u001B[49m\u001B[43mcv\u001B[49m\u001B[38;5;241;43m.\u001B[39;49m\u001B[43msplit\u001B[49m\u001B[43m(\u001B[49m\u001B[43mX\u001B[49m\u001B[43m,\u001B[49m\u001B[43m \u001B[49m\u001B[43my\u001B[49m\u001B[43m,\u001B[49m\u001B[43m \u001B[49m\u001B[43mgroups\u001B[49m\u001B[43m)\u001B[49m\n\u001B[1;32m    283\u001B[0m \u001B[43m\u001B[49m\u001B[43m)\u001B[49m\n\u001B[1;32m    285\u001B[0m _warn_or_raise_about_fit_failures(results, error_score)\n\u001B[1;32m    287\u001B[0m \u001B[38;5;66;03m# For callabe scoring, the return type is only know after calling. If the\u001B[39;00m\n\u001B[1;32m    288\u001B[0m \u001B[38;5;66;03m# return type is a dictionary, the error scores can now be inserted with\u001B[39;00m\n\u001B[1;32m    289\u001B[0m \u001B[38;5;66;03m# the correct key.\u001B[39;00m\n",
      "File \u001B[0;32m~/miniconda3/envs/qc-project/lib/python3.8/site-packages/joblib/parallel.py:1061\u001B[0m, in \u001B[0;36mParallel.__call__\u001B[0;34m(self, iterable)\u001B[0m\n\u001B[1;32m   1058\u001B[0m     \u001B[38;5;28mself\u001B[39m\u001B[38;5;241m.\u001B[39m_iterating \u001B[38;5;241m=\u001B[39m \u001B[38;5;28;01mFalse\u001B[39;00m\n\u001B[1;32m   1060\u001B[0m \u001B[38;5;28;01mwith\u001B[39;00m \u001B[38;5;28mself\u001B[39m\u001B[38;5;241m.\u001B[39m_backend\u001B[38;5;241m.\u001B[39mretrieval_context():\n\u001B[0;32m-> 1061\u001B[0m     \u001B[38;5;28;43mself\u001B[39;49m\u001B[38;5;241;43m.\u001B[39;49m\u001B[43mretrieve\u001B[49m\u001B[43m(\u001B[49m\u001B[43m)\u001B[49m\n\u001B[1;32m   1062\u001B[0m \u001B[38;5;66;03m# Make sure that we get a last message telling us we are done\u001B[39;00m\n\u001B[1;32m   1063\u001B[0m elapsed_time \u001B[38;5;241m=\u001B[39m time\u001B[38;5;241m.\u001B[39mtime() \u001B[38;5;241m-\u001B[39m \u001B[38;5;28mself\u001B[39m\u001B[38;5;241m.\u001B[39m_start_time\n",
      "File \u001B[0;32m~/miniconda3/envs/qc-project/lib/python3.8/site-packages/joblib/parallel.py:938\u001B[0m, in \u001B[0;36mParallel.retrieve\u001B[0;34m(self)\u001B[0m\n\u001B[1;32m    936\u001B[0m \u001B[38;5;28;01mtry\u001B[39;00m:\n\u001B[1;32m    937\u001B[0m     \u001B[38;5;28;01mif\u001B[39;00m \u001B[38;5;28mgetattr\u001B[39m(\u001B[38;5;28mself\u001B[39m\u001B[38;5;241m.\u001B[39m_backend, \u001B[38;5;124m'\u001B[39m\u001B[38;5;124msupports_timeout\u001B[39m\u001B[38;5;124m'\u001B[39m, \u001B[38;5;28;01mFalse\u001B[39;00m):\n\u001B[0;32m--> 938\u001B[0m         \u001B[38;5;28mself\u001B[39m\u001B[38;5;241m.\u001B[39m_output\u001B[38;5;241m.\u001B[39mextend(\u001B[43mjob\u001B[49m\u001B[38;5;241;43m.\u001B[39;49m\u001B[43mget\u001B[49m\u001B[43m(\u001B[49m\u001B[43mtimeout\u001B[49m\u001B[38;5;241;43m=\u001B[39;49m\u001B[38;5;28;43mself\u001B[39;49m\u001B[38;5;241;43m.\u001B[39;49m\u001B[43mtimeout\u001B[49m\u001B[43m)\u001B[49m)\n\u001B[1;32m    939\u001B[0m     \u001B[38;5;28;01melse\u001B[39;00m:\n\u001B[1;32m    940\u001B[0m         \u001B[38;5;28mself\u001B[39m\u001B[38;5;241m.\u001B[39m_output\u001B[38;5;241m.\u001B[39mextend(job\u001B[38;5;241m.\u001B[39mget())\n",
      "File \u001B[0;32m~/miniconda3/envs/qc-project/lib/python3.8/site-packages/joblib/_parallel_backends.py:542\u001B[0m, in \u001B[0;36mLokyBackend.wrap_future_result\u001B[0;34m(future, timeout)\u001B[0m\n\u001B[1;32m    539\u001B[0m \u001B[38;5;124;03m\"\"\"Wrapper for Future.result to implement the same behaviour as\u001B[39;00m\n\u001B[1;32m    540\u001B[0m \u001B[38;5;124;03mAsyncResults.get from multiprocessing.\"\"\"\u001B[39;00m\n\u001B[1;32m    541\u001B[0m \u001B[38;5;28;01mtry\u001B[39;00m:\n\u001B[0;32m--> 542\u001B[0m     \u001B[38;5;28;01mreturn\u001B[39;00m \u001B[43mfuture\u001B[49m\u001B[38;5;241;43m.\u001B[39;49m\u001B[43mresult\u001B[49m\u001B[43m(\u001B[49m\u001B[43mtimeout\u001B[49m\u001B[38;5;241;43m=\u001B[39;49m\u001B[43mtimeout\u001B[49m\u001B[43m)\u001B[49m\n\u001B[1;32m    543\u001B[0m \u001B[38;5;28;01mexcept\u001B[39;00m CfTimeoutError \u001B[38;5;28;01mas\u001B[39;00m e:\n\u001B[1;32m    544\u001B[0m     \u001B[38;5;28;01mraise\u001B[39;00m \u001B[38;5;167;01mTimeoutError\u001B[39;00m \u001B[38;5;28;01mfrom\u001B[39;00m \u001B[38;5;21;01me\u001B[39;00m\n",
      "File \u001B[0;32m~/miniconda3/envs/qc-project/lib/python3.8/concurrent/futures/_base.py:439\u001B[0m, in \u001B[0;36mFuture.result\u001B[0;34m(self, timeout)\u001B[0m\n\u001B[1;32m    436\u001B[0m \u001B[38;5;28;01melif\u001B[39;00m \u001B[38;5;28mself\u001B[39m\u001B[38;5;241m.\u001B[39m_state \u001B[38;5;241m==\u001B[39m FINISHED:\n\u001B[1;32m    437\u001B[0m     \u001B[38;5;28;01mreturn\u001B[39;00m \u001B[38;5;28mself\u001B[39m\u001B[38;5;241m.\u001B[39m__get_result()\n\u001B[0;32m--> 439\u001B[0m \u001B[38;5;28;43mself\u001B[39;49m\u001B[38;5;241;43m.\u001B[39;49m\u001B[43m_condition\u001B[49m\u001B[38;5;241;43m.\u001B[39;49m\u001B[43mwait\u001B[49m\u001B[43m(\u001B[49m\u001B[43mtimeout\u001B[49m\u001B[43m)\u001B[49m\n\u001B[1;32m    441\u001B[0m \u001B[38;5;28;01mif\u001B[39;00m \u001B[38;5;28mself\u001B[39m\u001B[38;5;241m.\u001B[39m_state \u001B[38;5;129;01min\u001B[39;00m [CANCELLED, CANCELLED_AND_NOTIFIED]:\n\u001B[1;32m    442\u001B[0m     \u001B[38;5;28;01mraise\u001B[39;00m CancelledError()\n",
      "File \u001B[0;32m~/miniconda3/envs/qc-project/lib/python3.8/threading.py:302\u001B[0m, in \u001B[0;36mCondition.wait\u001B[0;34m(self, timeout)\u001B[0m\n\u001B[1;32m    300\u001B[0m \u001B[38;5;28;01mtry\u001B[39;00m:    \u001B[38;5;66;03m# restore state no matter what (e.g., KeyboardInterrupt)\u001B[39;00m\n\u001B[1;32m    301\u001B[0m     \u001B[38;5;28;01mif\u001B[39;00m timeout \u001B[38;5;129;01mis\u001B[39;00m \u001B[38;5;28;01mNone\u001B[39;00m:\n\u001B[0;32m--> 302\u001B[0m         \u001B[43mwaiter\u001B[49m\u001B[38;5;241;43m.\u001B[39;49m\u001B[43macquire\u001B[49m\u001B[43m(\u001B[49m\u001B[43m)\u001B[49m\n\u001B[1;32m    303\u001B[0m         gotit \u001B[38;5;241m=\u001B[39m \u001B[38;5;28;01mTrue\u001B[39;00m\n\u001B[1;32m    304\u001B[0m     \u001B[38;5;28;01melse\u001B[39;00m:\n",
      "\u001B[0;31mKeyboardInterrupt\u001B[0m: "
     ]
    }
   ],
   "source": [
    "best_kernel = kernels[0] # Index from output above\n",
    "svc = SVC(kernel=best_kernel.evaluate)\n",
    "\n",
    "results = cross_validate(svc, train_features, train_labels, cv=10, n_jobs=-1, return_estimator=True, return_train_score=True)"
   ],
   "metadata": {
    "collapsed": false
   }
  },
  {
   "cell_type": "code",
   "execution_count": null,
   "outputs": [],
   "source": [
    "resulting_models = results['estimator']\n",
    "total_times = results['fit_time'] + results['score_time']\n",
    "print(f\"Time consumed for each SVC: {total_times}, mean: {total_times.mean()}\")"
   ],
   "metadata": {
    "collapsed": false
   }
  },
  {
   "cell_type": "code",
   "execution_count": null,
   "outputs": [],
   "source": [
    "# Calculate accuracy on testing dataset\n",
    "\n",
    "accuracies = []\n",
    "for i, model in enumerate(resulting_models):\n",
    "    accuracy = model.score(test_features, test_labels)\n",
    "    print(f\"Got accuracy {accuracy} for model {i + 1}/10\")\n",
    "    accuracies.append(accuracy)\n",
    "accuracies = np.array(accuracies)"
   ],
   "metadata": {
    "collapsed": false
   }
  },
  {
   "cell_type": "markdown",
   "source": [
    "### Training evaluation"
   ],
   "metadata": {
    "collapsed": false
   }
  },
  {
   "cell_type": "code",
   "execution_count": null,
   "outputs": [],
   "source": [
    "print(', '.join(map(lambda accuracy: f'{accuracy:.2f}', accuracies)))\n",
    "print('mean: {:.2f}, std: {:.2f}, mean training time: {:.0f}s'.format(accuracies.mean(), accuracies.std(),\n",
    "                                                                          np.array(total_times).mean()))"
   ],
   "metadata": {
    "collapsed": false
   }
  },
  {
   "cell_type": "markdown",
   "source": [
    "---\n",
    "### Classical Implementation"
   ],
   "metadata": {
    "collapsed": false
   }
  },
  {
   "cell_type": "code",
   "execution_count": null,
   "outputs": [],
   "source": [
    "classical_svc = SVC(kernel='rbf')\n",
    "classical_results = cross_validate(classical_svc, train_features, train_labels, cv=10, n_jobs=-1, return_estimator=True, return_train_score=True)\n",
    "classical_results"
   ],
   "metadata": {
    "collapsed": false
   }
  },
  {
   "cell_type": "code",
   "execution_count": null,
   "outputs": [],
   "source": [
    "print(f\"Classical mean SVC score: {classical_results['test_score'].mean()} with std. deviation {classical_results['test_score'].std()}\")"
   ],
   "metadata": {
    "collapsed": false
   }
  },
  {
   "cell_type": "code",
   "execution_count": null,
   "outputs": [],
   "source": [
    "classical_scores = np.array([model.score(test_features, test_labels) for model in classical_results['estimator']])\n",
    "classical_total_times = results['fit_time'] + results['score_time']\n",
    "print(', '.join(map(lambda accuracy: f'{accuracy:.2f}', classical_scores)))\n",
    "print('mean: {:.2f}, std: {:.2f}, mean training time: {:.0f}s'.format(classical_scores.mean(), classical_scores.std(),\n",
    "                                                                          np.array(classical_total_times).mean()))"
   ],
   "metadata": {
    "collapsed": false
   }
  },
  {
   "cell_type": "markdown",
   "source": [
    "---\n",
    "### Run on real quantum computer"
   ],
   "metadata": {
    "collapsed": false
   }
  },
  {
   "cell_type": "code",
   "execution_count": null,
   "outputs": [],
   "source": [
    "from qiskit import IBMQ\n",
    "\n",
    "# Best kernel should already be evaluated and set (in the above code cell)\n",
    "\n",
    "IBMQ.load_account()\n",
    "provider = IBMQ.get_provider(hub='ibm-q-education', group='zhaw-1')\n",
    "backend = least_busy(provider.backends(simulator=True))\n",
    "print(f\"Chosen backend: {backend}\")\n",
    "best_model = resulting_models[np.argmax(accuracies)]\n",
    "best_model.kernel.__self__.quantum_instance = QuantumInstance(backend, shots=1024)\n",
    "score = best_model.score(test_features, test_labels)\n",
    "print(f\"Quantum score: {score}\")\n"
   ],
   "metadata": {
    "collapsed": false
   }
  },
  {
   "cell_type": "code",
   "execution_count": null,
   "outputs": [],
   "source": [],
   "metadata": {
    "collapsed": false
   }
  }
 ],
 "metadata": {
  "kernelspec": {
   "display_name": "Python 3",
   "language": "python",
   "name": "python3"
  },
  "language_info": {
   "codemirror_mode": {
    "name": "ipython",
    "version": 2
   },
   "file_extension": ".py",
   "mimetype": "text/x-python",
   "name": "python",
   "nbconvert_exporter": "python",
   "pygments_lexer": "ipython2",
   "version": "2.7.6"
  }
 },
 "nbformat": 4,
 "nbformat_minor": 0
}
