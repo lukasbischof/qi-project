{
 "cells": [
  {
   "cell_type": "code",
   "execution_count": 1,
   "metadata": {
    "collapsed": true
   },
   "outputs": [],
   "source": [
    "import numpy as np\n",
    "import matplotlib.pyplot as plt"
   ]
  },
  {
   "cell_type": "code",
   "execution_count": 2,
   "metadata": {
    "collapsed": false
   },
   "outputs": [],
   "source": [
    "title = 'Accuracy of QNN on VLDS Datasets'\n",
    "accuracies = {\n",
    "    'VLDS 100': [0.56, 0.48, 0.44, 0.48, 0.44, 0.44, 0.64, 0.4, 0.44, 0.36],\n",
    "    'VLDS 1k': [0.54, 0.488, 0.556, 0.504, 0.536, 0.56, 0.532, 0.52, 0.512, 0.472],\n",
    "    'VLDS 10k': [0]\n",
    "}"
   ]
  },
  {
   "cell_type": "code",
   "execution_count": 3,
   "metadata": {
    "collapsed": false
   },
   "outputs": [
    {
     "ename": "ValueError",
     "evalue": "zero-size array to reduction operation minimum which has no identity",
     "output_type": "error",
     "traceback": [
      "\u001b[1;31m---------------------------------------------------------------------------\u001b[0m",
      "\u001b[1;31mValueError\u001b[0m                                Traceback (most recent call last)",
      "Cell \u001b[1;32mIn[3], line 1\u001b[0m\n\u001b[1;32m----> 1\u001b[0m minima \u001b[39m=\u001b[39m np\u001b[39m.\u001b[39marray([np\u001b[39m.\u001b[39mmin(accuracies[key]) \u001b[39mfor\u001b[39;00m key \u001b[39min\u001b[39;00m accuracies])\u001b[39m.\u001b[39mmin() \u001b[39m-\u001b[39m \u001b[39m0.1\u001b[39m\n\u001b[0;32m      2\u001b[0m maxima \u001b[39m=\u001b[39m np\u001b[39m.\u001b[39marray([np\u001b[39m.\u001b[39mmax(accuracies[key]) \u001b[39mfor\u001b[39;00m key \u001b[39min\u001b[39;00m accuracies])\u001b[39m.\u001b[39mmax() \u001b[39m+\u001b[39m \u001b[39m0.1\u001b[39m\n\u001b[0;32m      4\u001b[0m fig, axs \u001b[39m=\u001b[39m plt\u001b[39m.\u001b[39msubplots(\u001b[39m1\u001b[39m, \u001b[39mlen\u001b[39m(accuracies), figsize\u001b[39m=\u001b[39m(\u001b[39m3\u001b[39m \u001b[39m*\u001b[39m \u001b[39m2\u001b[39m, \u001b[39m2\u001b[39m \u001b[39m*\u001b[39m \u001b[39m2\u001b[39m))\n",
      "Cell \u001b[1;32mIn[3], line 1\u001b[0m, in \u001b[0;36m<listcomp>\u001b[1;34m(.0)\u001b[0m\n\u001b[1;32m----> 1\u001b[0m minima \u001b[39m=\u001b[39m np\u001b[39m.\u001b[39marray([np\u001b[39m.\u001b[39;49mmin(accuracies[key]) \u001b[39mfor\u001b[39;00m key \u001b[39min\u001b[39;00m accuracies])\u001b[39m.\u001b[39mmin() \u001b[39m-\u001b[39m \u001b[39m0.1\u001b[39m\n\u001b[0;32m      2\u001b[0m maxima \u001b[39m=\u001b[39m np\u001b[39m.\u001b[39marray([np\u001b[39m.\u001b[39mmax(accuracies[key]) \u001b[39mfor\u001b[39;00m key \u001b[39min\u001b[39;00m accuracies])\u001b[39m.\u001b[39mmax() \u001b[39m+\u001b[39m \u001b[39m0.1\u001b[39m\n\u001b[0;32m      4\u001b[0m fig, axs \u001b[39m=\u001b[39m plt\u001b[39m.\u001b[39msubplots(\u001b[39m1\u001b[39m, \u001b[39mlen\u001b[39m(accuracies), figsize\u001b[39m=\u001b[39m(\u001b[39m3\u001b[39m \u001b[39m*\u001b[39m \u001b[39m2\u001b[39m, \u001b[39m2\u001b[39m \u001b[39m*\u001b[39m \u001b[39m2\u001b[39m))\n",
      "File \u001b[1;32m<__array_function__ internals>:180\u001b[0m, in \u001b[0;36mamin\u001b[1;34m(*args, **kwargs)\u001b[0m\n",
      "File \u001b[1;32mc:\\Tools\\miniconda3\\lib\\site-packages\\numpy\\core\\fromnumeric.py:2918\u001b[0m, in \u001b[0;36mamin\u001b[1;34m(a, axis, out, keepdims, initial, where)\u001b[0m\n\u001b[0;32m   2802\u001b[0m \u001b[39m@array_function_dispatch\u001b[39m(_amin_dispatcher)\n\u001b[0;32m   2803\u001b[0m \u001b[39mdef\u001b[39;00m \u001b[39mamin\u001b[39m(a, axis\u001b[39m=\u001b[39m\u001b[39mNone\u001b[39;00m, out\u001b[39m=\u001b[39m\u001b[39mNone\u001b[39;00m, keepdims\u001b[39m=\u001b[39mnp\u001b[39m.\u001b[39m_NoValue, initial\u001b[39m=\u001b[39mnp\u001b[39m.\u001b[39m_NoValue,\n\u001b[0;32m   2804\u001b[0m          where\u001b[39m=\u001b[39mnp\u001b[39m.\u001b[39m_NoValue):\n\u001b[0;32m   2805\u001b[0m     \u001b[39m\"\"\"\u001b[39;00m\n\u001b[0;32m   2806\u001b[0m \u001b[39m    Return the minimum of an array or minimum along an axis.\u001b[39;00m\n\u001b[0;32m   2807\u001b[0m \n\u001b[1;32m   (...)\u001b[0m\n\u001b[0;32m   2916\u001b[0m \u001b[39m    6\u001b[39;00m\n\u001b[0;32m   2917\u001b[0m \u001b[39m    \"\"\"\u001b[39;00m\n\u001b[1;32m-> 2918\u001b[0m     \u001b[39mreturn\u001b[39;00m _wrapreduction(a, np\u001b[39m.\u001b[39;49mminimum, \u001b[39m'\u001b[39;49m\u001b[39mmin\u001b[39;49m\u001b[39m'\u001b[39;49m, axis, \u001b[39mNone\u001b[39;49;00m, out,\n\u001b[0;32m   2919\u001b[0m                           keepdims\u001b[39m=\u001b[39;49mkeepdims, initial\u001b[39m=\u001b[39;49minitial, where\u001b[39m=\u001b[39;49mwhere)\n",
      "File \u001b[1;32mc:\\Tools\\miniconda3\\lib\\site-packages\\numpy\\core\\fromnumeric.py:86\u001b[0m, in \u001b[0;36m_wrapreduction\u001b[1;34m(obj, ufunc, method, axis, dtype, out, **kwargs)\u001b[0m\n\u001b[0;32m     83\u001b[0m         \u001b[39melse\u001b[39;00m:\n\u001b[0;32m     84\u001b[0m             \u001b[39mreturn\u001b[39;00m reduction(axis\u001b[39m=\u001b[39maxis, out\u001b[39m=\u001b[39mout, \u001b[39m*\u001b[39m\u001b[39m*\u001b[39mpasskwargs)\n\u001b[1;32m---> 86\u001b[0m \u001b[39mreturn\u001b[39;00m ufunc\u001b[39m.\u001b[39mreduce(obj, axis, dtype, out, \u001b[39m*\u001b[39m\u001b[39m*\u001b[39mpasskwargs)\n",
      "\u001b[1;31mValueError\u001b[0m: zero-size array to reduction operation minimum which has no identity"
     ]
    }
   ],
   "source": [
    "minima = np.array([np.min(accuracies[key]) for key in accuracies]).min() - 0.1\n",
    "maxima = np.array([np.max(accuracies[key]) for key in accuracies]).max() + 0.1\n",
    "\n",
    "fig, axs = plt.subplots(1, len(accuracies), figsize=(3 * 2, 2 * 2))\n",
    "fig.tight_layout(pad=2.0)\n",
    "fig.suptitle(title)\n",
    "fig.subplots_adjust(top=0.85)\n",
    "for i, key in enumerate(accuracies):\n",
    "    ax = axs[i]\n",
    "    ax.boxplot(accuracies[key])\n",
    "    ax.title.set_text(key)\n",
    "    ax.set_xticklabels([])\n",
    "    ax.set_ylim(minima, maxima)\n",
    "    ax.grid()\n",
    "plt.show()\n"
   ]
  },
  {
   "cell_type": "code",
   "execution_count": null,
   "metadata": {
    "collapsed": false
   },
   "outputs": [],
   "source": []
  }
 ],
 "metadata": {
  "kernelspec": {
   "display_name": "base",
   "language": "python",
   "name": "python3"
  },
  "language_info": {
   "codemirror_mode": {
    "name": "ipython",
    "version": 3
   },
   "file_extension": ".py",
   "mimetype": "text/x-python",
   "name": "python",
   "nbconvert_exporter": "python",
   "pygments_lexer": "ipython3",
   "version": "3.9.15"
  },
  "vscode": {
   "interpreter": {
    "hash": "a202c941ddc2ed04361cef105a5525aa0a92f52545eedc82903fadcf22b37666"
   }
  }
 },
 "nbformat": 4,
 "nbformat_minor": 0
}
