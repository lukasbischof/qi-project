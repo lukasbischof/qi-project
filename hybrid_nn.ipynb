{
 "cells": [
  {
   "cell_type": "code",
   "execution_count": 37,
   "metadata": {
    "collapsed": true
   },
   "outputs": [],
   "source": [
    "import matplotlib.pyplot as plt\n",
    "import numpy as np\n",
    "import pandas as pd\n",
    "import qiskit\n",
    "import torch\n",
    "import torch.nn as nn\n",
    "from torch.utils.data import Dataset\n",
    "\n",
    "from hybrid_nn import HybridNNModel, QuantumCircuit, Net, MyDataset, Hybrid"
   ]
  },
  {
   "cell_type": "code",
   "execution_count": 38,
   "outputs": [
    {
     "name": "stdout",
     "output_type": "stream",
     "text": [
      "Expected value for rotation pi 0.47\n"
     ]
    },
    {
     "name": "stderr",
     "output_type": "stream",
     "text": [
      "/Users/lukas/miniforge3/envs/qc/lib/python3.9/site-packages/numpy/linalg/linalg.py:2146: RuntimeWarning: divide by zero encountered in det\n",
      "  r = _umath_linalg.det(a, signature=signature)\n",
      "/Users/lukas/miniforge3/envs/qc/lib/python3.9/site-packages/numpy/linalg/linalg.py:2146: RuntimeWarning: invalid value encountered in det\n",
      "  r = _umath_linalg.det(a, signature=signature)\n"
     ]
    },
    {
     "data": {
      "text/plain": "<Figure size 580.387x200.667 with 1 Axes>",
      "image/png": "[encoded data removed]"
     },
     "execution_count": 38,
     "metadata": {},
     "output_type": "execute_result"
    }
   ],
   "source": [
    "simulator = qiskit.Aer.get_backend('aer_simulator')\n",
    "\n",
    "circuit = QuantumCircuit(1, simulator, 100)\n",
    "print('Expected value for rotation pi {}'.format(circuit.run([np.pi])[0]))\n",
    "circuit._circuit.draw(output='mpl')\n"
   ],
   "metadata": {
    "collapsed": false
   }
  },
  {
   "cell_type": "code",
   "execution_count": 39,
   "outputs": [],
   "source": [
    "dataset_name = 'adhoc_10k'\n",
    "df = pd.read_csv(f'datasets/{dataset_name}.csv', index_col=0)\n",
    "feature_dimension = df.shape[1] - 1\n",
    "\n",
    "all_features = df.copy()\n",
    "all_labels = all_features.pop('label')\n",
    "\n",
    "train = df.sample(frac=0.75, random_state=42)\n",
    "test = df.drop(train.index)\n",
    "\n",
    "# Separate the features from the labels\n",
    "train_features = train.copy()\n",
    "test_features = test.iloc[0:10, :].copy()\n",
    "\n",
    "train_labels = train_features.pop('label')\n",
    "test_labels = test_features.pop('label')\n",
    "\n",
    "test_loader = torch.utils.data.DataLoader(MyDataset(test_features, test_labels), batch_size=1, shuffle=True)"
   ],
   "metadata": {
    "collapsed": false
   }
  },
  {
   "cell_type": "code",
   "execution_count": 40,
   "outputs": [
    {
     "name": "stdout",
     "output_type": "stream",
     "text": [
      "Loaded model 1: True\n",
      "Loaded model 2: True\n",
      "Loaded model 3: True\n",
      "Loaded model 4: True\n",
      "Loaded model 5: True\n",
      "Loaded model 6: True\n",
      "Loaded model 7: True\n",
      "Loaded model 8: True\n",
      "Loaded model 9: True\n",
      "Loaded model 10: True\n"
     ]
    }
   ],
   "source": [
    "folds = 10\n",
    "epochs = 100\n",
    "loss_func = nn.CrossEntropyLoss\n",
    "models = [\n",
    "        HybridNNModel(\n",
    "            Net(feature_dimension=feature_dimension, backend=simulator),\n",
    "            fold=fold,\n",
    "            loss_func=loss_func,\n",
    "            epochs=epochs,\n",
    "            dataset_name=dataset_name\n",
    "        ) for fold in range(folds)\n",
    "    ]\n",
    "\n",
    "for i, model in enumerate(models):\n",
    "    print(f'Loaded model {i+1}: {model.load()}')"
   ],
   "metadata": {
    "collapsed": false
   }
  },
  {
   "cell_type": "code",
   "execution_count": 41,
   "outputs": [
    {
     "name": "stderr",
     "output_type": "stream",
     "text": [
      "/Users/lukas/miniforge3/envs/qc/lib/python3.9/site-packages/numpy/linalg/linalg.py:2146: RuntimeWarning: divide by zero encountered in det\n",
      "  r = _umath_linalg.det(a, signature=signature)\n",
      "/Users/lukas/miniforge3/envs/qc/lib/python3.9/site-packages/numpy/linalg/linalg.py:2146: RuntimeWarning: invalid value encountered in det\n",
      "  r = _umath_linalg.det(a, signature=signature)\n"
     ]
    },
    {
     "name": "stdout",
     "output_type": "stream",
     "text": [
      "Fold 1 accuracy 60.00%\n",
      "Fold 2 accuracy 70.00%\n",
      "Fold 3 accuracy 30.00%\n",
      "Fold 4 accuracy 30.00%\n",
      "Fold 5 accuracy 80.00%\n",
      "Fold 6 accuracy 40.00%\n",
      "Fold 7 accuracy 40.00%\n",
      "Fold 8 accuracy 50.00%\n",
      "Fold 9 accuracy 50.00%\n",
      "Fold 10 accuracy 50.00%\n",
      "Accuracy mean: 50.0%, std: 15.491933384829668\n",
      "best model: 4\n"
     ]
    },
    {
     "data": {
      "text/plain": "{'whiskers': [<matplotlib.lines.Line2D at 0x17e8b9e20>,\n  <matplotlib.lines.Line2D at 0x17e90c2b0>],\n 'caps': [<matplotlib.lines.Line2D at 0x17e9027c0>,\n  <matplotlib.lines.Line2D at 0x17e912370>],\n 'boxes': [<matplotlib.lines.Line2D at 0x17e8b5730>],\n 'medians': [<matplotlib.lines.Line2D at 0x17fb6e8b0>],\n 'fliers': [<matplotlib.lines.Line2D at 0x17e91bc10>],\n 'means': []}"
     },
     "execution_count": 41,
     "metadata": {},
     "output_type": "execute_result"
    },
    {
     "data": {
      "text/plain": "<Figure size 640x480 with 1 Axes>",
      "image/png": "[encoded data removed]"
     },
     "metadata": {},
     "output_type": "display_data"
    }
   ],
   "source": [
    "accuracies = np.array([model.score(test_loader) for model in models])\n",
    "for i, model in enumerate(models):\n",
    "    print('Fold %d accuracy %.2f%%' % (i+1, accuracies[i]))\n",
    "print(f\"Accuracy mean: {accuracies.mean()}%, std: {accuracies.std()}\")\n",
    "best_model_index = accuracies.argmax()\n",
    "print(f\"best model: {best_model_index}\")\n",
    "plt.boxplot(accuracies)"
   ],
   "metadata": {
    "collapsed": false
   }
  },
  {
   "cell_type": "code",
   "execution_count": 42,
   "outputs": [
    {
     "name": "stderr",
     "output_type": "stream",
     "text": [
      "ibmqfactory.load_account:WARNING:2023-01-14 19:14:15,933: Credentials are already in use. The existing account in the session will be replaced.\n"
     ]
    },
    {
     "name": "stdout",
     "output_type": "stream",
     "text": [
      "Chosen backend: ibmq_qasm_simulator\n"
     ]
    },
    {
     "name": "stderr",
     "output_type": "stream",
     "text": [
      "/Users/lukas/miniforge3/envs/qc/lib/python3.9/site-packages/numpy/linalg/linalg.py:2146: RuntimeWarning: divide by zero encountered in det\n",
      "  r = _umath_linalg.det(a, signature=signature)\n",
      "/Users/lukas/miniforge3/envs/qc/lib/python3.9/site-packages/numpy/linalg/linalg.py:2146: RuntimeWarning: invalid value encountered in det\n",
      "  r = _umath_linalg.det(a, signature=signature)\n"
     ]
    },
    {
     "data": {
      "text/plain": "80.0"
     },
     "execution_count": 42,
     "metadata": {},
     "output_type": "execute_result"
    }
   ],
   "source": [
    "from qiskit.providers.ibmq import least_busy\n",
    "from qiskit import IBMQ\n",
    "\n",
    "# Best kernel should already be evaluated and set (in the above code cell)\n",
    "\n",
    "IBMQ.load_account()\n",
    "provider = IBMQ.get_provider(hub='ibm-q-education', group='zhaw-1')\n",
    "backend = least_busy(provider.backends(simulator=True))\n",
    "print(f\"Chosen backend: {backend}\")\n",
    "models[best_model_index].model.hybrid.quantum_circuit.backend = backend\n",
    "models[best_model_index].score(test_loader)"
   ],
   "metadata": {
    "collapsed": false
   }
  },
  {
   "cell_type": "code",
   "execution_count": null,
   "outputs": [],
   "source": [],
   "metadata": {
    "collapsed": false
   }
  }
 ],
 "metadata": {
  "kernelspec": {
   "display_name": "Python 3",
   "language": "python",
   "name": "python3"
  },
  "language_info": {
   "codemirror_mode": {
    "name": "ipython",
    "version": 2
   },
   "file_extension": ".py",
   "mimetype": "text/x-python",
   "name": "python",
   "nbconvert_exporter": "python",
   "pygments_lexer": "ipython2",
   "version": "2.7.6"
  }
 },
 "nbformat": 4,
 "nbformat_minor": 0
}
