{
 "cells": [
  {
   "cell_type": "code",
   "execution_count": 1,
   "metadata": {
    "collapsed": true
   },
   "outputs": [],
   "source": [
    "import matplotlib.pyplot as plt\n",
    "import numpy as np\n",
    "import pandas as pd\n",
    "import qiskit\n",
    "import torch\n",
    "import torch.nn as nn\n",
    "from torch.utils.data import Dataset\n",
    "\n",
    "from hybrid_nn import HybridNNModel, QuantumCircuit, Net, MyDataset"
   ]
  },
  {
   "cell_type": "code",
   "execution_count": 2,
   "outputs": [
    {
     "name": "stderr",
     "output_type": "stream",
     "text": [
      "/Users/lukas/miniforge3/envs/qc/lib/python3.9/site-packages/numpy/linalg/linalg.py:2146: RuntimeWarning: divide by zero encountered in det\n",
      "  r = _umath_linalg.det(a, signature=signature)\n",
      "/Users/lukas/miniforge3/envs/qc/lib/python3.9/site-packages/numpy/linalg/linalg.py:2146: RuntimeWarning: invalid value encountered in det\n",
      "  r = _umath_linalg.det(a, signature=signature)\n"
     ]
    },
    {
     "name": "stdout",
     "output_type": "stream",
     "text": [
      "Expected value for rotation pi 0.41\n"
     ]
    },
    {
     "data": {
      "text/plain": "<Figure size 580.387x200.667 with 1 Axes>",
      "image/png": "[encoded data removed]"
     },
     "execution_count": 2,
     "metadata": {},
     "output_type": "execute_result"
    }
   ],
   "source": [
    "simulator = qiskit.Aer.get_backend('aer_simulator')\n",
    "\n",
    "circuit = QuantumCircuit(1, simulator, 100)\n",
    "print('Expected value for rotation pi {}'.format(circuit.run([np.pi])[0]))\n",
    "circuit._circuit.draw(output='mpl')\n"
   ],
   "metadata": {
    "collapsed": false
   }
  },
  {
   "cell_type": "code",
   "execution_count": 26,
   "outputs": [],
   "source": [
    "dataset_name = 'vlds_10k'\n",
    "df = pd.read_csv(f'datasets/{dataset_name}.csv', index_col=0)\n",
    "feature_dimension = df.shape[1] - 1\n",
    "\n",
    "all_features = df.copy()\n",
    "all_labels = all_features.pop('label')\n",
    "\n",
    "train = df.sample(frac=0.75, random_state=42)\n",
    "test = df.drop(train.index)\n",
    "\n",
    "# Separate the features from the labels\n",
    "train_features = train.copy()\n",
    "test_features = test.iloc[0:10, :].copy()\n",
    "\n",
    "train_labels = train_features.pop('label')\n",
    "test_labels = test_features.pop('label')\n",
    "\n",
    "test_loader = torch.utils.data.DataLoader(MyDataset(test_features, test_labels), batch_size=1, shuffle=True)"
   ],
   "metadata": {
    "collapsed": false
   }
  },
  {
   "cell_type": "code",
   "execution_count": 27,
   "outputs": [
    {
     "data": {
      "text/plain": "<map at 0x2c8f5af10>"
     },
     "execution_count": 27,
     "metadata": {},
     "output_type": "execute_result"
    }
   ],
   "source": [
    "folds = 10\n",
    "epochs = 100\n",
    "loss_func = nn.NLLLoss\n",
    "models = [\n",
    "        HybridNNModel(\n",
    "            Net(feature_dimension=feature_dimension, backend=simulator),\n",
    "            fold=fold,\n",
    "            loss_func=loss_func,\n",
    "            epochs=epochs,\n",
    "            dataset_name=dataset_name\n",
    "        ) for fold in range(folds)\n",
    "    ]\n",
    "\n",
    "map(lambda model: model.load(), models)"
   ],
   "metadata": {
    "collapsed": false
   }
  },
  {
   "cell_type": "code",
   "execution_count": 28,
   "outputs": [
    {
     "name": "stderr",
     "output_type": "stream",
     "text": [
      "/Users/lukas/miniforge3/envs/qc/lib/python3.9/site-packages/numpy/linalg/linalg.py:2146: RuntimeWarning: divide by zero encountered in det\n",
      "  r = _umath_linalg.det(a, signature=signature)\n",
      "/Users/lukas/miniforge3/envs/qc/lib/python3.9/site-packages/numpy/linalg/linalg.py:2146: RuntimeWarning: invalid value encountered in det\n",
      "  r = _umath_linalg.det(a, signature=signature)\n"
     ]
    },
    {
     "name": "stdout",
     "output_type": "stream",
     "text": [
      "Fold 1 accuracy 70.00%\n",
      "Fold 2 accuracy 50.00%\n",
      "Fold 3 accuracy 60.00%\n",
      "Fold 4 accuracy 100.00%\n",
      "Fold 5 accuracy 50.00%\n",
      "Fold 6 accuracy 70.00%\n",
      "Fold 7 accuracy 70.00%\n",
      "Fold 8 accuracy 70.00%\n",
      "Fold 9 accuracy 60.00%\n",
      "Fold 10 accuracy 40.00%\n",
      "Accuracy mean: 64.0%, std: 15.620499351813308\n"
     ]
    },
    {
     "data": {
      "text/plain": "{'whiskers': [<matplotlib.lines.Line2D at 0x2c8ff0520>,\n  <matplotlib.lines.Line2D at 0x2c8ff06d0>],\n 'caps': [<matplotlib.lines.Line2D at 0x2c8ff09a0>,\n  <matplotlib.lines.Line2D at 0x2c8ff0c70>],\n 'boxes': [<matplotlib.lines.Line2D at 0x2c8ff0250>],\n 'medians': [<matplotlib.lines.Line2D at 0x2c8ff0f40>],\n 'fliers': [<matplotlib.lines.Line2D at 0x2c8ffd250>],\n 'means': []}"
     },
     "execution_count": 28,
     "metadata": {},
     "output_type": "execute_result"
    },
    {
     "data": {
      "text/plain": "<Figure size 640x480 with 1 Axes>",
      "image/png": "[encoded data removed]"
     },
     "metadata": {},
     "output_type": "display_data"
    }
   ],
   "source": [
    "accuracies = np.array([model.score(test_loader) for model in models])\n",
    "for i, model in enumerate(models):\n",
    "    print('Fold %d accuracy %.2f%%' % (i+1, accuracies[i]))\n",
    "print(f\"Accuracy mean: {accuracies.mean()}%, std: {accuracies.std()}\")\n",
    "plt.boxplot(accuracies)"
   ],
   "metadata": {
    "collapsed": false
   }
  },
  {
   "cell_type": "code",
   "execution_count": 29,
   "outputs": [
    {
     "name": "stderr",
     "output_type": "stream",
     "text": [
      "ibmqfactory.load_account:WARNING:2023-01-12 14:29:20,799: Credentials are already in use. The existing account in the session will be replaced.\n"
     ]
    },
    {
     "name": "stdout",
     "output_type": "stream",
     "text": [
      "Chosen backend: ibmq_belem\n"
     ]
    },
    {
     "data": {
      "text/plain": "70.0"
     },
     "execution_count": 29,
     "metadata": {},
     "output_type": "execute_result"
    }
   ],
   "source": [
    "from qiskit.providers.ibmq import least_busy\n",
    "from qiskit import IBMQ\n",
    "\n",
    "# Best kernel should already be evaluated and set (in the above code cell)\n",
    "\n",
    "IBMQ.load_account()\n",
    "provider = IBMQ.get_provider(hub='ibm-q-education', group='zhaw-1')\n",
    "backend = least_busy(provider.backends(simulator=False))\n",
    "print(f\"Chosen backend: {backend}\")\n",
    "models[4].model.hybrid.quantum_circuit.backend = backend\n",
    "models[4].score(test_loader)"
   ],
   "metadata": {
    "collapsed": false
   }
  },
  {
   "cell_type": "code",
   "execution_count": null,
   "outputs": [],
   "source": [],
   "metadata": {
    "collapsed": false
   }
  }
 ],
 "metadata": {
  "kernelspec": {
   "display_name": "Python 3",
   "language": "python",
   "name": "python3"
  },
  "language_info": {
   "codemirror_mode": {
    "name": "ipython",
    "version": 2
   },
   "file_extension": ".py",
   "mimetype": "text/x-python",
   "name": "python",
   "nbconvert_exporter": "python",
   "pygments_lexer": "ipython2",
   "version": "2.7.6"
  }
 },
 "nbformat": 4,
 "nbformat_minor": 0
}
